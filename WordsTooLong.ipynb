{
 "cells": [
  {
   "cell_type": "code",
   "execution_count": null,
   "id": "26c682b3",
   "metadata": {},
   "outputs": [],
   "source": [
    "WordNum = int(input (\"Please enter number of words for abbreviation: \"))\n",
    "\n",
    "for i in range (WordNum):\n",
    "    Word = input ()\n",
    "    Ch = len(Word)\n",
    "    Ch0 = Ch - 2 \n",
    "\n",
    "    if Ch > 10:\n",
    "        print ( Word[0] + str(Ch0) + Word[-1] )\n",
    "    else: \n",
    "        print (Word)\n"
   ]
  },
  {
   "cell_type": "code",
   "execution_count": null,
   "id": "49163e51",
   "metadata": {},
   "outputs": [],
   "source": []
  },
  {
   "cell_type": "code",
   "execution_count": null,
   "id": "7016a2d5",
   "metadata": {},
   "outputs": [],
   "source": []
  }
 ],
 "metadata": {
  "kernelspec": {
   "display_name": "Python 3 (ipykernel)",
   "language": "python",
   "name": "python3"
  },
  "language_info": {
   "codemirror_mode": {
    "name": "ipython",
    "version": 3
   },
   "file_extension": ".py",
   "mimetype": "text/x-python",
   "name": "python",
   "nbconvert_exporter": "python",
   "pygments_lexer": "ipython3",
   "version": "3.11.4"
  }
 },
 "nbformat": 4,
 "nbformat_minor": 5
}
