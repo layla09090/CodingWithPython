{
 "cells": [
  {
   "cell_type": "code",
   "execution_count": null,
   "id": "dff863f5",
   "metadata": {},
   "outputs": [],
   "source": [
    "UserGuess = int(input(\"Please enter an integer between 1 and 100:\")) \n",
    "\n",
    "import random\n",
    "\n",
    "CompGuess = random.randint(1,100)\n",
    "\n",
    "while CompGuess != UserGuess:\n",
    "    if CompGuess < UserGuess : \n",
    "        print (\"number is high\")\n",
    "        UserGuess = int(input(\"Please enter an integer between 1 and 100: \")) \n",
    "    elif CompGuess > UserGuess :\n",
    "        print (\"number is low\")\n",
    "        UserGuess = int(input(\"Please enter an integer between 1 and 100: \")) \n",
    "    if CompGuess == UserGuess : \n",
    "        print (\"Congratulations! You guessed the number correctly!\")"
   ]
  },
  {
   "cell_type": "code",
   "execution_count": null,
   "id": "8ed2dff1",
   "metadata": {},
   "outputs": [],
   "source": []
  },
  {
   "cell_type": "code",
   "execution_count": null,
   "id": "b46f18e4",
   "metadata": {},
   "outputs": [],
   "source": []
  }
 ],
 "metadata": {
  "kernelspec": {
   "display_name": "Python 3 (ipykernel)",
   "language": "python",
   "name": "python3"
  },
  "language_info": {
   "codemirror_mode": {
    "name": "ipython",
    "version": 3
   },
   "file_extension": ".py",
   "mimetype": "text/x-python",
   "name": "python",
   "nbconvert_exporter": "python",
   "pygments_lexer": "ipython3",
   "version": "3.11.4"
  }
 },
 "nbformat": 4,
 "nbformat_minor": 5
}
